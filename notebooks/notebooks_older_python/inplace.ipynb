{
 "cells": [
  {
   "cell_type": "code",
   "execution_count": 1,
   "metadata": {},
   "outputs": [
    {
     "name": "stdout",
     "output_type": "stream",
     "text": [
      "c:\\Users\\Stefo\\Programming\\Proper-Pandas\n"
     ]
    }
   ],
   "source": [
    "%cd ../.."
   ]
  },
  {
   "cell_type": "code",
   "execution_count": 2,
   "metadata": {},
   "outputs": [],
   "source": [
    "import utilities.benchmark as bench\n",
    "from utilities.compare_benchmarks import compare_benchmarks, compare_statistics_benchmarks\n",
    "from utilities.compare_dataframes import compare_dataframes"
   ]
  },
  {
   "cell_type": "code",
   "execution_count": 3,
   "metadata": {},
   "outputs": [],
   "source": [
    "from testing_functions.inplace import sort_strings, sort_strings_inplace"
   ]
  },
  {
   "cell_type": "code",
   "execution_count": 4,
   "metadata": {},
   "outputs": [],
   "source": [
    "import pandas as pd"
   ]
  },
  {
   "cell_type": "code",
   "execution_count": 5,
   "metadata": {},
   "outputs": [],
   "source": [
    "SMALL = pd.read_csv('./test_files/small_string.csv')\n",
    "MEDIUM = pd.read_csv('./test_files/medium_string.csv')\n",
    "BIG = pd.read_csv('./test_files/big_string.csv')"
   ]
  },
  {
   "cell_type": "code",
   "execution_count": 6,
   "metadata": {},
   "outputs": [],
   "source": [
    "sort_small = bench.benchmark(\n",
    "    sort_strings,\n",
    "    SMALL\n",
    ")\n",
    "\n",
    "sort_medium = bench.benchmark(\n",
    "    sort_strings,\n",
    "    MEDIUM\n",
    ")\n",
    "\n",
    "sort_big = bench.benchmark(\n",
    "    sort_strings,\n",
    "    BIG\n",
    ")"
   ]
  },
  {
   "cell_type": "code",
   "execution_count": null,
   "metadata": {},
   "outputs": [],
   "source": [
    "sort_small_inplace = bench.benchmark(\n",
    "    sort_strings_inplace,\n",
    "    SMALL\n",
    ")\n",
    "\n",
    "sort_medium_inplace = bench.benchmark(\n",
    "    sort_strings_inplace,\n",
    "    MEDIUM\n",
    ")\n",
    "\n",
    "sort_big_inplace = bench.benchmark(\n",
    "    sort_strings_inplace,\n",
    "    BIG\n",
    ")"
   ]
  },
  {
   "cell_type": "code",
   "execution_count": null,
   "metadata": {},
   "outputs": [],
   "source": [
    "if compare_dataframes(sort_small['returned'], sort_small_inplace['returned']):\n",
    "    compare_benchmarks(\n",
    "        sort_small,\n",
    "        sort_small_inplace\n",
    "    )\n",
    "    compare_statistics_benchmarks(\n",
    "        sort_small,\n",
    "        sort_small_inplace\n",
    "    )"
   ]
  },
  {
   "cell_type": "code",
   "execution_count": null,
   "metadata": {},
   "outputs": [],
   "source": [
    "if compare_dataframes(sort_medium_inplace['returned'], sort_medium_inplace['returned']):\n",
    "    compare_benchmarks(\n",
    "        sort_medium,\n",
    "        sort_medium_inplace\n",
    "    )\n",
    "    compare_statistics_benchmarks(\n",
    "        sort_medium,\n",
    "        sort_medium_inplace\n",
    "    )"
   ]
  },
  {
   "cell_type": "code",
   "execution_count": null,
   "metadata": {},
   "outputs": [],
   "source": [
    "if compare_dataframes(sort_big['returned'], sort_big_inplace['returned']):\n",
    "    compare_benchmarks(\n",
    "        sort_big,\n",
    "        sort_big_inplace\n",
    "    )\n",
    "    compare_statistics_benchmarks(\n",
    "        sort_big,\n",
    "        sort_big_inplace\n",
    "    )"
   ]
  }
 ],
 "metadata": {
  "kernelspec": {
   "display_name": "proper-pandas-3.8.3",
   "language": "python",
   "name": "python3"
  },
  "language_info": {
   "codemirror_mode": {
    "name": "ipython",
    "version": 3
   },
   "file_extension": ".py",
   "mimetype": "text/x-python",
   "name": "python",
   "nbconvert_exporter": "python",
   "pygments_lexer": "ipython3",
   "version": "3.8.3"
  }
 },
 "nbformat": 4,
 "nbformat_minor": 2
}
