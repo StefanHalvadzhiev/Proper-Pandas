{
 "cells": [
  {
   "cell_type": "code",
   "execution_count": null,
   "metadata": {},
   "outputs": [],
   "source": [
    "%cd ../.."
   ]
  },
  {
   "cell_type": "code",
   "execution_count": null,
   "metadata": {},
   "outputs": [],
   "source": [
    "import utilities.benchmark as bench\n",
    "from utilities.compare_benchmarks import compare_benchmarks, compare_statistics_benchmarks\n",
    "from utilities.compare_dataframes import compare_dataframes"
   ]
  },
  {
   "cell_type": "code",
   "execution_count": null,
   "metadata": {},
   "outputs": [],
   "source": [
    "import pandas as pd"
   ]
  },
  {
   "cell_type": "code",
   "execution_count": null,
   "metadata": {},
   "outputs": [],
   "source": [
    "from testing_functions import apply_to_lowercase, to_lowercase_with_apply"
   ]
  },
  {
   "cell_type": "code",
   "execution_count": null,
   "metadata": {},
   "outputs": [],
   "source": [
    "SMALL = pd.read_csv('test_files/small_datasource.csv')\n",
    "MEDIUM = pd.read_csv('test_files/medium_datasource.csv')\n",
    "BIG = pd.read_csv('test_files/big_datasource.csv')"
   ]
  },
  {
   "cell_type": "code",
   "execution_count": null,
   "metadata": {},
   "outputs": [],
   "source": [
    "apply_small = bench.benchmark(\n",
    "    apply_to_lowercase,\n",
    "    SMALL\n",
    ")"
   ]
  }
 ],
 "metadata": {
  "language_info": {
   "name": "python"
  }
 },
 "nbformat": 4,
 "nbformat_minor": 2
}
