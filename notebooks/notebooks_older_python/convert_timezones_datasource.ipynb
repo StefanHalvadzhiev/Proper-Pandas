{
 "cells": [
  {
   "cell_type": "code",
   "execution_count": null,
   "metadata": {},
   "outputs": [],
   "source": [
    "%cd ../.."
   ]
  },
  {
   "cell_type": "code",
   "execution_count": null,
   "metadata": {},
   "outputs": [],
   "source": [
    "import utilities.benchmark as bench\n",
    "from utilities.compare_benchmarks import compare_benchmarks, compare_statistics_benchmarks\n",
    "from utilities.compare_dataframes import compare_dataframes"
   ]
  },
  {
   "cell_type": "code",
   "execution_count": null,
   "metadata": {},
   "outputs": [],
   "source": [
    "import pandas as pd"
   ]
  },
  {
   "cell_type": "code",
   "execution_count": null,
   "metadata": {},
   "outputs": [],
   "source": [
    "from testing_functions.timezones_datasource import localize_and_convert_apply, localize_and_convert_loop"
   ]
  },
  {
   "cell_type": "code",
   "execution_count": null,
   "metadata": {},
   "outputs": [],
   "source": [
    "SMALL = pd.read_csv('test_files/small_datasource.csv')\n",
    "MEDIUM = pd.read_csv('test_files/medium_datasource.csv')\n",
    "BIG = pd.read_csv('test_files/big_datasource.csv')"
   ]
  },
  {
   "cell_type": "code",
   "execution_count": null,
   "metadata": {},
   "outputs": [],
   "source": [
    "apply_small = bench.benchmark(\n",
    "    localize_and_convert_apply,\n",
    "    SMALL\n",
    ")\n",
    "\n",
    "apply_medium = bench.benchmark(\n",
    "    localize_and_convert_apply,\n",
    "    MEDIUM\n",
    ")\n",
    "\n",
    "apply_big = bench.benchmark(\n",
    "    localize_and_convert_apply,\n",
    "    BIG\n",
    ")"
   ]
  },
  {
   "cell_type": "code",
   "execution_count": null,
   "metadata": {},
   "outputs": [],
   "source": [
    "loop_small = bench.benchmark(\n",
    "    localize_and_convert_loop,\n",
    "    SMALL\n",
    ")\n",
    "\n",
    "loop_medium = bench.benchmark(\n",
    "    localize_and_convert_loop,\n",
    "    MEDIUM\n",
    ")\n",
    "\n",
    "loop_big = bench.benchmark(\n",
    "    localize_and_convert_loop,\n",
    "    BIG\n",
    ")"
   ]
  },
  {
   "cell_type": "code",
   "execution_count": null,
   "metadata": {},
   "outputs": [],
   "source": [
    "compare_benchmarks(\n",
    "    apply_small,\n",
    "    loop_small\n",
    ")\n",
    "\n",
    "compare_statistics_benchmarks(\n",
    "    apply_small,\n",
    "    loop_small\n",
    ")"
   ]
  },
  {
   "cell_type": "code",
   "execution_count": null,
   "metadata": {},
   "outputs": [],
   "source": [
    "compare_benchmarks(\n",
    "    apply_medium,\n",
    "    loop_medium\n",
    ")\n",
    "\n",
    "compare_statistics_benchmarks(\n",
    "    apply_medium,\n",
    "    loop_medium\n",
    ")"
   ]
  },
  {
   "cell_type": "code",
   "execution_count": null,
   "metadata": {},
   "outputs": [],
   "source": [
    "compare_benchmarks(\n",
    "    apply_big,\n",
    "    loop_big\n",
    ")\n",
    "\n",
    "compare_statistics_benchmarks(\n",
    "    apply_big,\n",
    "    loop_big\n",
    ")"
   ]
  }
 ],
 "metadata": {
  "language_info": {
   "name": "python"
  }
 },
 "nbformat": 4,
 "nbformat_minor": 2
}
